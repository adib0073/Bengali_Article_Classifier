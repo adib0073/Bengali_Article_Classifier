{
 "cells": [
  {
   "cell_type": "code",
   "execution_count": 1,
   "metadata": {},
   "outputs": [],
   "source": [
    "!pip install -q gdown --no-use-pep517"
   ]
  },
  {
   "cell_type": "code",
   "execution_count": 3,
   "metadata": {},
   "outputs": [
    {
     "name": "stdout",
     "output_type": "stream",
     "text": [
      "Collecting tensorflow_hub\n",
      "  Downloading tensorflow_hub-0.9.0-py2.py3-none-any.whl (103 kB)\n",
      "Requirement already satisfied: six>=1.12.0 in d:\\users\\aditya bhattacharya\\anaconda3\\lib\\site-packages (from tensorflow_hub) (1.15.0)\n",
      "Requirement already satisfied: numpy>=1.12.0 in d:\\users\\aditya bhattacharya\\anaconda3\\lib\\site-packages (from tensorflow_hub) (1.18.5)\n",
      "Requirement already satisfied: protobuf>=3.8.0 in d:\\users\\aditya bhattacharya\\anaconda3\\lib\\site-packages (from tensorflow_hub) (3.12.2)\n",
      "Requirement already satisfied: setuptools in d:\\users\\aditya bhattacharya\\anaconda3\\lib\\site-packages (from protobuf>=3.8.0->tensorflow_hub) (49.2.0.post20200714)\n",
      "Installing collected packages: tensorflow-hub\n",
      "Successfully installed tensorflow-hub-0.9.0\n"
     ]
    }
   ],
   "source": [
    "!pip install tensorflow_hub"
   ]
  },
  {
   "cell_type": "code",
   "execution_count": 4,
   "metadata": {},
   "outputs": [],
   "source": [
    "import os\n",
    "\n",
    "import tensorflow as tf\n",
    "import tensorflow_hub as hub\n",
    "\n",
    "import gdown\n",
    "import numpy as np\n",
    "from sklearn.metrics import classification_report\n",
    "import matplotlib.pyplot as plt\n",
    "import seaborn as sns"
   ]
  },
  {
   "cell_type": "markdown",
   "metadata": {},
   "source": [
    "### About the dataset"
   ]
  },
  {
   "cell_type": "markdown",
   "metadata": {},
   "source": [
    "We will use BARD (Bangla Article Dataset) which has around 3,76,226 articles collected from different Bangla news portals and labelled with 5 categories : economy, state, international, sports and entertainment."
   ]
  },
  {
   "cell_type": "code",
   "execution_count": 5,
   "metadata": {},
   "outputs": [
    {
     "data": {
      "text/plain": [
       "'bard.zip'"
      ]
     },
     "execution_count": 5,
     "metadata": {},
     "output_type": "execute_result"
    }
   ],
   "source": [
    "gdown.download(\n",
    "    url='https://drive.google.com/uc?id=1Ag0jd21oRwJhVFIBohmX_ogeojVtapLy',\n",
    "    output='bard.zip',\n",
    "    quiet=True\n",
    ")"
   ]
  },
  {
   "cell_type": "code",
   "execution_count": 7,
   "metadata": {},
   "outputs": [
    {
     "name": "stderr",
     "output_type": "stream",
     "text": [
      "  % Total    % Received % Xferd  Average Speed   Time    Time     Time  Current\n",
      "                                 Dload  Upload   Total   Spent    Left  Speed\n",
      "\n",
      "  0     0    0     0    0     0      0      0 --:--:-- --:--:-- --:--:--     0\n",
      "  0     0    0     0    0     0      0      0 --:--:-- --:--:-- --:--:--     0\n",
      "  0     0    0     0    0     0      0      0 --:--:--  0:00:01 --:--:--     0\n",
      "  0  840M    0 35719    0     0  15014      0 16:18:16  0:00:02 16:18:14 15014\n",
      "  0  840M    0 1672k    0     0   543k      0  0:26:23  0:00:03  0:26:20  543k\n",
      "  0  840M    0 5846k    0     0  1416k      0  0:10:07  0:00:04  0:10:03 1415k\n",
      "  1  840M    1 13.3M    0     0  2700k      0  0:05:18  0:00:05  0:05:13 2774k\n",
      "  2  840M    2 21.6M    0     0  3627k      0  0:03:57  0:00:06  0:03:51 5107k\n",
      "  2  840M    2 24.9M    0     0  3615k      0  0:03:58  0:00:07  0:03:51 5439k\n",
      "  3  840M    3 27.9M    0     0  3544k      0  0:04:02  0:00:08  0:03:54 5392k\n",
      "  3  840M    3 30.9M    0     0  3491k      0  0:04:06  0:00:09  0:03:57 5222k\n",
      "  4  840M    4 35.2M    0     0  3582k      0  0:04:00  0:00:10  0:03:50 4477k\n",
      "  5  840M    5 43.9M    0     0  4065k      0  0:03:31  0:00:11  0:03:20 4602k\n",
      "  5  840M    5 47.1M    0     0  3997k      0  0:03:35  0:00:12  0:03:23 4538k\n",
      "  6  840M    6 50.5M    0     0  3956k      0  0:03:37  0:00:13  0:03:24 4621k\n",
      "  6  840M    6 53.5M    0     0  3897k      0  0:03:40  0:00:14  0:03:26 4636k\n",
      "  6  840M    6 56.6M    0     0  3846k      0  0:03:43  0:00:15  0:03:28 4377k\n",
      "  7  840M    7 60.9M    0     0  3885k      0  0:03:41  0:00:16  0:03:25 3488k\n",
      "  8  840M    8 69.5M    0     0  4148k      0  0:03:27  0:00:17  0:03:10 4508k\n",
      "  8  840M    8 73.3M    0     0  4155k      0  0:03:27  0:00:18  0:03:09 4676k\n",
      "  9  840M    9 77.3M    0     0  4151k      0  0:03:27  0:00:19  0:03:08 4864k\n",
      "  9  840M    9 81.2M    0     0  4143k      0  0:03:27  0:00:20  0:03:07 5036k\n",
      " 10  840M   10 84.9M    0     0  4126k      0  0:03:28  0:00:21  0:03:07 4902k\n",
      " 10  840M   10 91.5M    0     0  4238k      0  0:03:23  0:00:22  0:03:01 4547k\n",
      " 11  840M   11 95.6M    0     0  4247k      0  0:03:22  0:00:23  0:02:59 4577k\n",
      " 11  840M   11 99.3M    0     0  4228k      0  0:03:23  0:00:24  0:02:59 4521k\n",
      " 12  840M   12  103M    0     0  4222k      0  0:03:23  0:00:25  0:02:58 4540k\n",
      " 13  840M   13  110M    0     0  4328k      0  0:03:18  0:00:26  0:02:52 5176k\n",
      " 13  840M   13  114M    0     0  4325k      0  0:03:18  0:00:27  0:02:51 4713k\n",
      " 14  840M   14  119M    0     0  4345k      0  0:03:18  0:00:28  0:02:50 4800k\n",
      " 14  840M   14  123M    0     0  4360k      0  0:03:17  0:00:29  0:02:48 4998k\n",
      " 15  840M   15  128M    0     0  4360k      0  0:03:17  0:00:30  0:02:47 5050k\n",
      " 15  840M   15  132M    0     0  4379k      0  0:03:16  0:00:31  0:02:45 4647k\n",
      " 16  840M   16  137M    0     0  4374k      0  0:03:16  0:00:32  0:02:44 4643k\n",
      " 16  840M   16  141M    0     0  4369k      0  0:03:16  0:00:33  0:02:43 4504k\n",
      " 17  840M   17  146M    0     0  4410k      0  0:03:15  0:00:34  0:02:41 4704k\n",
      " 17  840M   17  149M    0     0  4375k      0  0:03:16  0:00:35  0:02:41 4471k\n",
      " 18  840M   18  155M    0     0  4404k      0  0:03:15  0:00:36  0:02:39 4560k\n",
      " 18  840M   18  158M    0     0  4391k      0  0:03:15  0:00:37  0:02:38 4499k\n",
      " 19  840M   19  162M    0     0  4379k      0  0:03:16  0:00:38  0:02:38 4445k\n",
      " 20  840M   20  168M    0     0  4420k      0  0:03:14  0:00:39  0:02:35 4485k\n",
      " 20  840M   20  173M    0     0  4429k      0  0:03:14  0:00:40  0:02:34 4806k\n",
      " 21  840M   21  177M    0     0  4421k      0  0:03:14  0:00:41  0:02:33 4544k\n",
      " 21  840M   21  181M    0     0  4416k      0  0:03:14  0:00:42  0:02:32 4602k\n",
      " 22  840M   22  187M    0     0  4449k      0  0:03:13  0:00:43  0:02:30 4974k\n",
      " 22  840M   22  191M    0     0  4441k      0  0:03:13  0:00:44  0:02:29 4607k\n",
      " 23  840M   23  194M    0     0  4429k      0  0:03:14  0:00:45  0:02:29 4425k\n",
      " 23  840M   23  198M    0     0  4416k      0  0:03:14  0:00:46  0:02:28 4377k\n",
      " 24  840M   24  204M    0     0  4454k      0  0:03:13  0:00:47  0:02:26 4771k\n",
      " 24  840M   24  209M    0     0  4463k      0  0:03:12  0:00:48  0:02:24 4587k\n",
      " 25  840M   25  213M    0     0  4448k      0  0:03:13  0:00:49  0:02:24 4513k\n",
      " 25  840M   25  216M    0     0  4435k      0  0:03:14  0:00:50  0:02:24 4496k\n",
      " 26  840M   26  222M    0     0  4461k      0  0:03:12  0:00:51  0:02:21 4878k\n",
      " 27  840M   27  228M    0     0  4486k      0  0:03:11  0:00:52  0:02:19 4789k\n",
      " 27  840M   27  232M    0     0  4479k      0  0:03:12  0:00:53  0:02:19 4635k\n",
      " 28  840M   28  236M    0     0  4473k      0  0:03:12  0:00:54  0:02:18 4711k\n",
      " 28  840M   28  239M    0     0  4460k      0  0:03:12  0:00:55  0:02:17 4710k\n",
      " 29  840M   29  246M    0     0  4498k      0  0:03:11  0:00:56  0:02:15 4865k\n",
      " 29  840M   29  251M    0     0  4504k      0  0:03:11  0:00:57  0:02:14 4688k\n",
      " 30  840M   30  255M    0     0  4504k      0  0:03:11  0:00:58  0:02:13 4766k\n",
      " 30  840M   30  260M    0     0  4508k      0  0:03:10  0:00:59  0:02:11 4890k\n",
      " 31  840M   31  264M    0     0  4510k      0  0:03:10  0:01:00  0:02:10 5062k\n",
      " 32  840M   32  269M    0     0  4515k      0  0:03:10  0:01:01  0:02:09 4704k\n",
      " 32  840M   32  273M    0     0  4518k      0  0:03:10  0:01:02  0:02:08 4681k\n",
      " 33  840M   33  278M    0     0  4521k      0  0:03:10  0:01:03  0:02:07 4720k\n",
      " 33  840M   33  283M    0     0  4525k      0  0:03:10  0:01:04  0:02:06 4720k\n",
      " 34  840M   34  287M    0     0  4529k      0  0:03:09  0:01:05  0:02:04 4755k\n",
      " 34  840M   34  291M    0     0  4523k      0  0:03:10  0:01:06  0:02:04 4629k\n",
      " 35  840M   35  296M    0     0  4529k      0  0:03:10  0:01:07  0:02:03 4665k\n",
      " 35  840M   35  301M    0     0  4533k      0  0:03:09  0:01:08  0:02:01 4690k\n",
      " 36  840M   36  305M    0     0  4535k      0  0:03:09  0:01:09  0:02:00 4665k\n",
      " 36  840M   36  310M    0     0  4532k      0  0:03:09  0:01:10  0:01:59 4565k\n",
      " 37  840M   37  315M    0     0  4538k      0  0:03:09  0:01:11  0:01:58 4735k\n",
      " 37  840M   37  319M    0     0  4535k      0  0:03:09  0:01:12  0:01:57 4617k\n",
      " 38  840M   38  322M    0     0  4518k      0  0:03:10  0:01:13  0:01:57 4311k\n",
      " 39  840M   39  329M    0     0  4546k      0  0:03:09  0:01:14  0:01:55 4705k\n",
      " 39  840M   39  333M    0     0  4547k      0  0:03:09  0:01:15  0:01:54 4766k\n",
      " 40  840M   40  336M    0     0  4533k      0  0:03:09  0:01:16  0:01:53 4457k\n",
      " 40  840M   40  341M    0     0  4534k      0  0:03:09  0:01:17  0:01:52 4521k\n",
      " 41  840M   41  346M    0     0  4540k      0  0:03:09  0:01:18  0:01:51 4856k\n",
      " 41  840M   41  351M    0     0  4550k      0  0:03:09  0:01:19  0:01:50 4600k\n",
      " 42  840M   42  355M    0     0  4541k      0  0:03:09  0:01:20  0:01:49 4445k\n",
      " 42  840M   42  357M    0     0  4520k      0  0:03:10  0:01:21  0:01:49 4326k\n",
      " 43  840M   43  361M    0     0  4513k      0  0:03:10  0:01:22  0:01:48 4195k\n",
      " 43  840M   43  368M    0     0  4547k      0  0:03:09  0:01:23  0:01:46 4668k\n",
      " 44  840M   44  373M    0     0  4552k      0  0:03:09  0:01:24  0:01:45 4589k\n",
      " 44  840M   44  377M    0     0  4543k      0  0:03:09  0:01:25  0:01:44 4582k\n",
      " 45  840M   45  381M    0     0  4535k      0  0:03:09  0:01:26  0:01:43 4774k\n",
      " 46  840M   46  387M    0     0  4551k      0  0:03:09  0:01:27  0:01:42 5163k\n",
      " 46  840M   46  391M    0     0  4556k      0  0:03:08  0:01:28  0:01:40 4700k\n",
      " 47  840M   47  395M    0     0  4544k      0  0:03:09  0:01:29  0:01:40 4400k\n",
      " 47  840M   47  397M    0     0  4521k      0  0:03:10  0:01:30  0:01:40 4135k\n",
      " 47  840M   47  401M    0     0  4512k      0  0:03:10  0:01:31  0:01:39 4125k\n",
      " 48  840M   48  408M    0     0  4538k      0  0:03:09  0:01:32  0:01:37 4312k\n",
      " 49  840M   49  415M    0     0  4567k      0  0:03:08  0:01:33  0:01:35 4758k\n",
      " 49  840M   49  418M    0     0  4554k      0  0:03:08  0:01:34  0:01:34 4741k\n",
      " 50  840M   50  421M    0     0  4544k      0  0:03:09  0:01:35  0:01:34 4972k\n",
      " 50  840M   50  427M    0     0  4556k      0  0:03:08  0:01:36  0:01:32 5360k\n"
     ]
    }
   ],
   "source": [
    "!curl -O https://dl.fbaipublicfiles.com/fasttext/vectors-crawl/cc.bn.300.vec.gz"
   ]
  },
  {
   "cell_type": "code",
   "execution_count": 8,
   "metadata": {},
   "outputs": [
    {
     "name": "stderr",
     "output_type": "stream",
     "text": [
      " 51  840M   51  433M    0     0  4570k      0  0:03:08  0:01:37  0:01:31 5161k\n",
      " 51  840M   51  436M    0     0  4559k      0  0:03:08  0:01:38  0:01:30 4403k\n",
      " 52  840M   52  440M    0     0  4547k      0  0:03:09  0:01:39  0:01:30 4421k\n",
      " 52  840M   52  444M    0     0  4545k      0  0:03:09  0:01:40  0:01:29 4554k\n",
      " 53  840M   53  451M    0     0  4577k      0  0:03:08  0:01:41  0:01:27 4970k\n",
      " 54  840M   54  455M    0     0  4568k      0  0:03:08  0:01:42  0:01:26 4537k\n",
      " 54  840M   54  459M    0     0  4561k      0  0:03:08  0:01:43  0:01:25 4614k\n",
      " 55  840M   55  463M    0     0  4556k      0  0:03:08  0:01:44  0:01:24 4719k\n",
      " 55  840M   55  469M    0     0  4577k      0  0:03:08  0:01:45  0:01:23 5222k\n",
      " 56  840M   56  474M    0     0  4577k      0  0:03:07  0:01:46  0:01:21 4588k\n",
      " 56  840M   56  478M    0     0  4571k      0  0:03:08  0:01:47  0:01:21 4636k\n",
      " 57  840M   57  482M    0     0  4567k      0  0:03:08  0:01:48  0:01:20 4684k\n",
      " 58  840M   58  488M    0     0  4581k      0  0:03:07  0:01:49  0:01:18 5113k\n",
      " 58  840M   58  492M    0     0  4579k      0  0:03:07  0:01:50  0:01:17 4623k\n",
      " 59  840M   59  496M    0     0  4581k      0  0:03:07  0:01:51  0:01:16 4651k\n",
      " 59  840M   59  501M    0     0  4577k      0  0:03:07  0:01:52  0:01:15 4704k\n",
      " 60  840M   60  506M    0     0  4586k      0  0:03:07  0:01:53  0:01:14 5004k\n",
      " 60  840M   60  511M    0     0  4587k      0  0:03:07  0:01:54  0:01:13 4718k\n",
      " 61  840M   61  515M    0     0  4586k      0  0:03:07  0:01:55  0:01:12 4732k\n",
      " 61  840M   61  519M    0     0  4584k      0  0:03:07  0:01:56  0:01:11 4660k\n",
      " 62  840M   62  524M    0     0  4588k      0  0:03:07  0:01:57  0:01:10 4827k\n",
      " 62  840M   62  528M    0     0  4585k      0  0:03:07  0:01:58  0:01:09 4566k\n",
      " 63  840M   63  532M    0     0  4579k      0  0:03:07  0:01:59  0:01:08 4387k\n",
      " 63  840M   63  536M    0     0  4576k      0  0:03:08  0:02:00  0:01:08 4348k\n",
      " 64  840M   64  542M    0     0  4591k      0  0:03:07  0:02:01  0:01:06 4740k\n",
      " 65  840M   65  547M    0     0  4592k      0  0:03:07  0:02:02  0:01:05 4683k\n",
      " 65  840M   65  551M    0     0  4591k      0  0:03:07  0:02:03  0:01:04 4716k\n",
      " 66  840M   66  556M    0     0  4591k      0  0:03:07  0:02:04  0:01:03 4875k\n",
      " 66  840M   66  561M    0     0  4594k      0  0:03:07  0:02:05  0:01:02 5022k\n",
      " 67  840M   67  565M    0     0  4589k      0  0:03:07  0:02:06  0:01:01 4559k\n",
      " 67  840M   67  569M    0     0  4585k      0  0:03:07  0:02:07  0:01:00 4405k\n",
      " 68  840M   68  573M    0     0  4588k      0  0:03:07  0:02:08  0:00:59 4509k\n",
      " 68  840M   68  579M    0     0  4594k      0  0:03:07  0:02:09  0:00:58 4686k\n",
      " 69  840M   69  583M    0     0  4597k      0  0:03:07  0:02:10  0:00:57 4671k\n",
      " 69  840M   69  588M    0     0  4594k      0  0:03:07  0:02:11  0:00:56 4701k\n",
      " 70  840M   70  592M    0     0  4592k      0  0:03:07  0:02:12  0:00:55 4782k\n",
      " 71  840M   71  597M    0     0  4599k      0  0:03:07  0:02:13  0:00:54 4886k\n",
      " 71  840M   71  602M    0     0  4598k      0  0:03:07  0:02:14  0:00:53 4696k\n",
      " 72  840M   72  606M    0     0  4595k      0  0:03:07  0:02:15  0:00:52 4540k\n",
      " 72  840M   72  611M    0     0  4598k      0  0:03:07  0:02:16  0:00:51 4716k\n",
      " 73  840M   73  616M    0     0  4604k      0  0:03:06  0:02:17  0:00:49 4919k\n",
      " 73  840M   73  620M    0     0  4600k      0  0:03:07  0:02:18  0:00:49 4633k\n",
      " 74  840M   74  624M    0     0  4596k      0  0:03:07  0:02:19  0:00:48 4538k\n",
      " 74  840M   74  628M    0     0  4592k      0  0:03:07  0:02:20  0:00:47 4529k\n",
      " 75  840M   75  634M    0     0  4602k      0  0:03:06  0:02:21  0:00:45 4709k\n",
      " 75  840M   75  638M    0     0  4601k      0  0:03:07  0:02:22  0:00:45 4509k\n",
      " 76  840M   76  641M    0     0  4594k      0  0:03:07  0:02:23  0:00:44 4435k\n",
      " 76  840M   76  646M    0     0  4597k      0  0:03:07  0:02:24  0:00:43 4618k\n",
      " 77  840M   77  652M    0     0  4601k      0  0:03:07  0:02:25  0:00:42 4852k\n",
      " 78  840M   78  656M    0     0  4600k      0  0:03:07  0:02:26  0:00:41 4553k\n",
      " 78  840M   78  659M    0     0  4594k      0  0:03:07  0:02:27  0:00:40 4416k\n",
      " 78  840M   78  663M    0     0  4590k      0  0:03:07  0:02:28  0:00:39 4457k\n",
      " 79  840M   79  670M    0     0  4606k      0  0:03:06  0:02:29  0:00:37 4885k\n",
      " 80  840M   80  674M    0     0  4602k      0  0:03:06  0:02:30  0:00:36 4618k\n",
      " 80  840M   80  678M    0     0  4597k      0  0:03:07  0:02:31  0:00:36 4499k\n",
      " 81  840M   81  682M    0     0  4592k      0  0:03:07  0:02:32  0:00:35 4534k\n",
      " 81  840M   81  687M    0     0  4596k      0  0:03:07  0:02:33  0:00:34 4775k\n",
      " 82  840M   82  692M    0     0  4599k      0  0:03:07  0:02:34  0:00:33 4374k\n",
      " 82  840M   82  696M    0     0  4599k      0  0:03:07  0:02:35  0:00:32 4517k\n",
      " 83  840M   83  700M    0     0  4595k      0  0:03:07  0:02:36  0:00:31 4521k\n",
      " 83  840M   83  704M    0     0  4593k      0  0:03:07  0:02:37  0:00:30 4626k\n",
      " 84  840M   84  710M    0     0  4602k      0  0:03:06  0:02:38  0:00:28 4791k\n",
      " 84  840M   84  714M    0     0  4598k      0  0:03:07  0:02:39  0:00:28 4562k\n",
      " 85  840M   85  717M    0     0  4590k      0  0:03:07  0:02:40  0:00:27 4317k\n",
      " 85  840M   85  721M    0     0  4584k      0  0:03:07  0:02:41  0:00:26 4243k\n",
      " 86  840M   86  726M    0     0  4590k      0  0:03:07  0:02:42  0:00:25 4493k\n",
      " 87  840M   87  732M    0     0  4599k      0  0:03:07  0:02:43  0:00:24 4507k\n",
      " 87  840M   87  736M    0     0  4598k      0  0:03:07  0:02:44  0:00:23 4604k\n",
      " 88  840M   88  740M    0     0  4593k      0  0:03:07  0:02:45  0:00:22 4662k\n",
      " 88  840M   88  744M    0     0  4593k      0  0:03:07  0:02:46  0:00:21 4886k\n",
      " 89  840M   89  750M    0     0  4599k      0  0:03:07  0:02:47  0:00:20 4870k\n",
      " 89  840M   89  755M    0     0  4604k      0  0:03:06  0:02:48  0:00:18 4769k\n",
      " 90  840M   90  759M    0     0  4600k      0  0:03:07  0:02:49  0:00:18 4671k\n",
      " 90  840M   90  763M    0     0  4596k      0  0:03:07  0:02:50  0:00:17 4707k\n",
      " 91  840M   91  769M    0     0  4607k      0  0:03:06  0:02:51  0:00:15 5064k\n",
      " 92  840M   92  773M    0     0  4605k      0  0:03:06  0:02:52  0:00:14 4817k\n",
      " 92  840M   92  777M    0     0  4601k      0  0:03:07  0:02:53  0:00:14 4492k\n",
      " 92  840M   92  781M    0     0  4597k      0  0:03:07  0:02:54  0:00:13 4488k\n",
      " 93  840M   93  788M    0     0  4610k      0  0:03:06  0:02:55  0:00:11 5097k\n",
      " 94  840M   94  792M    0     0  4606k      0  0:03:06  0:02:56  0:00:10 4576k\n",
      " 94  840M   94  795M    0     0  4602k      0  0:03:07  0:02:57  0:00:10 4483k\n",
      " 95  840M   95  799M    0     0  4596k      0  0:03:07  0:02:58  0:00:09 4429k\n",
      " 95  840M   95  804M    0     0  4597k      0  0:03:07  0:02:59  0:00:08 4616k\n",
      " 96  840M   96  810M    0     0  4607k      0  0:03:06  0:03:00  0:00:06 4480k\n",
      " 96  840M   96  814M    0     0  4607k      0  0:03:06  0:03:01  0:00:05 4640k\n",
      " 97  840M   97  818M    0     0  4604k      0  0:03:06  0:03:02  0:00:04 4682k\n",
      " 97  840M   97  822M    0     0  4602k      0  0:03:06  0:03:03  0:00:03 4833k\n",
      " 98  840M   98  828M    0     0  4611k      0  0:03:06  0:03:04  0:00:02 5101k\n",
      " 99  840M   99  833M    0     0  4610k      0  0:03:06  0:03:05  0:00:01 4718k\n",
      " 99  840M   99  837M    0     0  4607k      0  0:03:06  0:03:06 --:--:-- 4615k\n",
      "100  840M  100  840M    0     0  4605k      0  0:03:06  0:03:06 --:--:-- 4638k\n",
      "  % Total    % Received % Xferd  Average Speed   Time    Time     Time  Current\n",
      "                                 Dload  Upload   Total   Spent    Left  Speed\n",
      "\n",
      "  0     0    0     0    0     0      0      0 --:--:-- --:--:-- --:--:--     0\n",
      "  0     0    0     0    0     0      0      0 --:--:-- --:--:-- --:--:--     0\n",
      "100  7603  100  7603    0     0  15741      0 --:--:-- --:--:-- --:--:-- 15741\n"
     ]
    }
   ],
   "source": [
    "! curl -O https://raw.githubusercontent.com/tensorflow/hub/master/examples/text_embeddings_v2/export_v2.py"
   ]
  },
  {
   "cell_type": "code",
   "execution_count": 9,
   "metadata": {},
   "outputs": [
    {
     "name": "stderr",
     "output_type": "stream",
     "text": [
      "2020-08-22 16:51:43.245297: I tensorflow/stream_executor/platform/default/dso_loader.cc:44] Successfully opened dynamic library cudart64_101.dll\n",
      "2020-08-22 16:52:09.292125: I tensorflow/stream_executor/platform/default/dso_loader.cc:44] Successfully opened dynamic library nvcuda.dll\n",
      "2020-08-22 16:52:10.678153: I tensorflow/core/common_runtime/gpu/gpu_device.cc:1561] Found device 0 with properties: \n",
      "pciBusID: 0000:01:00.0 name: GeForce GTX 1060 computeCapability: 6.1\n",
      "coreClock: 1.733GHz coreCount: 10 deviceMemorySize: 6.00GiB deviceMemoryBandwidth: 178.99GiB/s\n",
      "2020-08-22 16:52:10.678909: I tensorflow/stream_executor/platform/default/dso_loader.cc:44] Successfully opened dynamic library cudart64_101.dll\n",
      "2020-08-22 16:52:10.745748: I tensorflow/stream_executor/platform/default/dso_loader.cc:44] Successfully opened dynamic library cublas64_10.dll\n",
      "2020-08-22 16:52:10.806922: I tensorflow/stream_executor/platform/default/dso_loader.cc:44] Successfully opened dynamic library cufft64_10.dll\n",
      "2020-08-22 16:52:10.819644: I tensorflow/stream_executor/platform/default/dso_loader.cc:44] Successfully opened dynamic library curand64_10.dll\n",
      "2020-08-22 16:52:10.887525: I tensorflow/stream_executor/platform/default/dso_loader.cc:44] Successfully opened dynamic library cusolver64_10.dll\n",
      "2020-08-22 16:52:10.917702: I tensorflow/stream_executor/platform/default/dso_loader.cc:44] Successfully opened dynamic library cusparse64_10.dll\n",
      "2020-08-22 16:52:11.031446: I tensorflow/stream_executor/platform/default/dso_loader.cc:44] Successfully opened dynamic library cudnn64_7.dll\n",
      "2020-08-22 16:52:11.251540: I tensorflow/core/common_runtime/gpu/gpu_device.cc:1703] Adding visible gpu devices: 0\n",
      "2020-08-22 16:52:11.310607: I tensorflow/core/platform/cpu_feature_guard.cc:143] Your CPU supports instructions that this TensorFlow binary was not compiled to use: AVX2\n",
      "2020-08-22 16:52:11.735982: I tensorflow/compiler/xla/service/service.cc:168] XLA service 0x1f388478c40 initialized for platform Host (this does not guarantee that XLA will be used). Devices:\n",
      "2020-08-22 16:52:11.736493: I tensorflow/compiler/xla/service/service.cc:176]   StreamExecutor device (0): Host, Default Version\n",
      "2020-08-22 16:52:11.960278: I tensorflow/core/common_runtime/gpu/gpu_device.cc:1561] Found device 0 with properties: \n",
      "pciBusID: 0000:01:00.0 name: GeForce GTX 1060 computeCapability: 6.1\n",
      "coreClock: 1.733GHz coreCount: 10 deviceMemorySize: 6.00GiB deviceMemoryBandwidth: 178.99GiB/s\n",
      "2020-08-22 16:52:11.961010: I tensorflow/stream_executor/platform/default/dso_loader.cc:44] Successfully opened dynamic library cudart64_101.dll\n",
      "2020-08-22 16:52:11.961414: I tensorflow/stream_executor/platform/default/dso_loader.cc:44] Successfully opened dynamic library cublas64_10.dll\n",
      "2020-08-22 16:52:11.961935: I tensorflow/stream_executor/platform/default/dso_loader.cc:44] Successfully opened dynamic library cufft64_10.dll\n",
      "2020-08-22 16:52:11.962387: I tensorflow/stream_executor/platform/default/dso_loader.cc:44] Successfully opened dynamic library curand64_10.dll\n",
      "2020-08-22 16:52:11.962869: I tensorflow/stream_executor/platform/default/dso_loader.cc:44] Successfully opened dynamic library cusolver64_10.dll\n",
      "2020-08-22 16:52:11.963355: I tensorflow/stream_executor/platform/default/dso_loader.cc:44] Successfully opened dynamic library cusparse64_10.dll\n",
      "2020-08-22 16:52:11.963908: I tensorflow/stream_executor/platform/default/dso_loader.cc:44] Successfully opened dynamic library cudnn64_7.dll\n",
      "2020-08-22 16:52:11.964744: I tensorflow/core/common_runtime/gpu/gpu_device.cc:1703] Adding visible gpu devices: 0\n",
      "2020-08-22 16:52:24.944823: I tensorflow/core/common_runtime/gpu/gpu_device.cc:1102] Device interconnect StreamExecutor with strength 1 edge matrix:\n",
      "2020-08-22 16:52:24.945218: I tensorflow/core/common_runtime/gpu/gpu_device.cc:1108]      0 \n",
      "2020-08-22 16:52:24.945453: I tensorflow/core/common_runtime/gpu/gpu_device.cc:1121] 0:   N \n",
      "2020-08-22 16:52:24.986451: I tensorflow/core/common_runtime/gpu/gpu_device.cc:1247] Created TensorFlow device (/job:localhost/replica:0/task:0/device:GPU:0 with 4700 MB memory) -> physical GPU (device: 0, name: GeForce GTX 1060, pci bus id: 0000:01:00.0, compute capability: 6.1)\n",
      "2020-08-22 16:52:25.047414: I tensorflow/compiler/xla/service/service.cc:168] XLA service 0x1f3da551af0 initialized for platform CUDA (this does not guarantee that XLA will be used). Devices:\n",
      "2020-08-22 16:52:25.048027: I tensorflow/compiler/xla/service/service.cc:176]   StreamExecutor device (0): GeForce GTX 1060, Compute Capability 6.1\n",
      "WARNING:tensorflow:From D:\\Users\\Aditya Bhattacharya\\anaconda3\\lib\\site-packages\\tensorflow\\python\\ops\\resource_variable_ops.py:1813: calling BaseResourceVariable.__init__ (from tensorflow.python.ops.resource_variable_ops) with constraint is deprecated and will be removed in a future version.\n",
      "Instructions for updating:\n",
      "If using Keras pass *_constraint arguments to layers.\n",
      "W0822 16:52:27.659928 26596 deprecation.py:500] From D:\\Users\\Aditya Bhattacharya\\anaconda3\\lib\\site-packages\\tensorflow\\python\\ops\\resource_variable_ops.py:1813: calling BaseResourceVariable.__init__ (from tensorflow.python.ops.resource_variable_ops) with constraint is deprecated and will be removed in a future version.\n",
      "Instructions for updating:\n",
      "If using Keras pass *_constraint arguments to layers.\n",
      "INFO:tensorflow:Assets written to: text_module\\assets\n",
      "I0822 16:52:31.277039 26596 builder_impl.py:774] Assets written to: text_module\\assets\n"
     ]
    }
   ],
   "source": [
    "!python export_v2.py --embedding_file=cc.bn.300.vec --export_path=text_module --num_lines_to_ignore=1 --num_lines_to_use=100000"
   ]
  },
  {
   "cell_type": "code",
   "execution_count": 10,
   "metadata": {},
   "outputs": [],
   "source": [
    "module_path = \"text_module\"\n",
    "embedding_layer = hub.KerasLayer(module_path, trainable=False)"
   ]
  },
  {
   "cell_type": "markdown",
   "metadata": {},
   "source": [
    "The text embedding module takes a batch of sentences in a 1D tensor of strings as input and outputs the embedding vectors of shape (batch_size, embedding_dim) corresponding to the sentences. It preprocesses the input by splitting on spaces. For demonstration we pass a list of Bangla words as input and get the corresponding embedding vectors."
   ]
  },
  {
   "cell_type": "code",
   "execution_count": 11,
   "metadata": {},
   "outputs": [
    {
     "data": {
      "text/plain": [
       "<tf.Tensor: shape=(5, 300), dtype=float64, numpy=\n",
       "array([[ 0.0462, -0.0355,  0.0129, ...,  0.0025, -0.0966,  0.0216],\n",
       "       [-0.0631, -0.0051,  0.085 , ...,  0.0249, -0.0149,  0.0203],\n",
       "       [ 0.1371, -0.069 , -0.1176, ...,  0.029 ,  0.0508, -0.026 ],\n",
       "       [ 0.0532, -0.0465, -0.0504, ...,  0.02  , -0.0023,  0.0011],\n",
       "       [ 0.0908, -0.0404, -0.0536, ..., -0.0275,  0.0528,  0.0253]])>"
      ]
     },
     "execution_count": 11,
     "metadata": {},
     "output_type": "execute_result"
    }
   ],
   "source": [
    "embedding_layer(['বাস', 'বসবাস', 'ট্রেন', 'যাত্রী', 'ট্রাক']) "
   ]
  },
  {
   "cell_type": "markdown",
   "metadata": {},
   "source": [
    "## Convert to Tensorflow Dataset"
   ]
  },
  {
   "cell_type": "code",
   "execution_count": 16,
   "metadata": {},
   "outputs": [],
   "source": [
    "dir_names = ['bard/economy', 'bard/sports', 'bard/entertainment', 'bard/state', 'bard/international']\n",
    "\n",
    "file_paths = []\n",
    "labels = []\n",
    "for i, dir in enumerate(dir_names):\n",
    "    file_names = [\"/\".join([dir, name]) for name in os.listdir(dir)]\n",
    "    file_paths += file_names\n",
    "    labels += [i] * len(os.listdir(dir))\n",
    "    \n",
    "np.random.seed(42)\n",
    "permutation = np.random.permutation(len(file_paths))\n",
    "\n",
    "file_paths = np.array(file_paths)[permutation]\n",
    "labels = np.array(labels)[permutation]"
   ]
  },
  {
   "cell_type": "code",
   "execution_count": 17,
   "metadata": {},
   "outputs": [],
   "source": [
    "train_frac = 0.8\n",
    "train_size = int(len(file_paths) * train_frac)"
   ]
  },
  {
   "cell_type": "code",
   "execution_count": 18,
   "metadata": {},
   "outputs": [
    {
     "data": {
      "image/png": "[encoded data removed]",
      "text/plain": [
       "<Figure size 432x288 with 2 Axes>"
      ]
     },
     "metadata": {
      "needs_background": "light"
     },
     "output_type": "display_data"
    }
   ],
   "source": [
    "# plot training vs validation distribution\n",
    "plt.subplot(1, 2, 1)\n",
    "plt.hist(labels[0:train_size])\n",
    "plt.title(\"Train labels\")\n",
    "plt.subplot(1, 2, 2)\n",
    "plt.hist(labels[train_size:])\n",
    "plt.title(\"Validation labels\")\n",
    "plt.tight_layout()"
   ]
  },
  {
   "cell_type": "markdown",
   "metadata": {},
   "source": []
  },
  {
   "cell_type": "code",
   "execution_count": 19,
   "metadata": {},
   "outputs": [],
   "source": [
    "def load_file(path, label):\n",
    "    return tf.io.read_file(path), label"
   ]
  },
  {
   "cell_type": "code",
   "execution_count": 20,
   "metadata": {},
   "outputs": [],
   "source": [
    "def make_datasets(train_size):\n",
    "    batch_size = 256\n",
    "\n",
    "    train_files = file_paths[:train_size]\n",
    "    train_labels = labels[:train_size]\n",
    "    train_ds = tf.data.Dataset.from_tensor_slices((train_files, train_labels))\n",
    "    train_ds = train_ds.map(load_file).shuffle(5000)\n",
    "    train_ds = train_ds.batch(batch_size).prefetch(tf.data.experimental.AUTOTUNE)\n",
    "\n",
    "    test_files = file_paths[train_size:]\n",
    "    test_labels = labels[train_size:]\n",
    "    test_ds = tf.data.Dataset.from_tensor_slices((test_files, test_labels))\n",
    "    test_ds = test_ds.map(load_file)\n",
    "    test_ds = test_ds.batch(batch_size).prefetch(tf.data.experimental.AUTOTUNE)\n",
    "\n",
    "\n",
    "    return train_ds, test_ds"
   ]
  },
  {
   "cell_type": "code",
   "execution_count": 21,
   "metadata": {},
   "outputs": [],
   "source": [
    "train_data, validation_data = make_datasets(train_size)"
   ]
  },
  {
   "cell_type": "code",
   "execution_count": 22,
   "metadata": {},
   "outputs": [],
   "source": [
    "def create_model():\n",
    "    model = tf.keras.Sequential([\n",
    "    tf.keras.layers.Input(shape=[], dtype=tf.string),\n",
    "    embedding_layer,\n",
    "    tf.keras.layers.Dense(64, activation=\"relu\"),\n",
    "    tf.keras.layers.Dense(16, activation=\"relu\"),\n",
    "    tf.keras.layers.Dense(5),\n",
    "    ])\n",
    "    model.compile(loss=tf.losses.SparseCategoricalCrossentropy(from_logits=True),\n",
    "      optimizer=\"adam\", metrics=['accuracy'])\n",
    "    return model"
   ]
  },
  {
   "cell_type": "code",
   "execution_count": 23,
   "metadata": {},
   "outputs": [
    {
     "name": "stdout",
     "output_type": "stream",
     "text": [
      "WARNING:tensorflow:Layer dense is casting an input tensor from dtype float64 to the layer's dtype of float32, which is new behavior in TensorFlow 2.  The layer has dtype float32 because it's dtype defaults to floatx.\n",
      "\n",
      "If you intended to run this layer in float32, you can safely ignore this warning. If in doubt, this warning is likely only an issue if you are porting a TensorFlow 1.X model to TensorFlow 2.\n",
      "\n",
      "To change all layers to have dtype float64 by default, call `tf.keras.backend.set_floatx('float64')`. To change just this layer, pass dtype='float64' to the layer constructor. If you are the author of this layer, you can disable autocasting by passing autocast=False to the base Layer constructor.\n",
      "\n"
     ]
    },
    {
     "name": "stderr",
     "output_type": "stream",
     "text": [
      "WARNING:tensorflow:Layer dense is casting an input tensor from dtype float64 to the layer's dtype of float32, which is new behavior in TensorFlow 2.  The layer has dtype float32 because it's dtype defaults to floatx.\n",
      "\n",
      "If you intended to run this layer in float32, you can safely ignore this warning. If in doubt, this warning is likely only an issue if you are porting a TensorFlow 1.X model to TensorFlow 2.\n",
      "\n",
      "To change all layers to have dtype float64 by default, call `tf.keras.backend.set_floatx('float64')`. To change just this layer, pass dtype='float64' to the layer constructor. If you are the author of this layer, you can disable autocasting by passing autocast=False to the base Layer constructor.\n",
      "\n"
     ]
    }
   ],
   "source": [
    "model = create_model()\n",
    "# Create earlystopping callback\n",
    "early_stopping_callback = tf.keras.callbacks.EarlyStopping(monitor='val_loss', min_delta=0, patience=3)"
   ]
  },
  {
   "cell_type": "code",
   "execution_count": 26,
   "metadata": {},
   "outputs": [
    {
     "name": "stdout",
     "output_type": "stream",
     "text": [
      "1176/1176 [==============================] - 1238s 1s/step - loss: 0.1390 - accuracy: 0.9509 - val_loss: 0.1331 - val_accuracy: 0.9521\n"
     ]
    }
   ],
   "source": [
    "history = model.fit(train_data, \n",
    "                    validation_data=validation_data, \n",
    "                    epochs=1, \n",
    "                    callbacks=[early_stopping_callback])"
   ]
  },
  {
   "cell_type": "code",
   "execution_count": 31,
   "metadata": {},
   "outputs": [
    {
     "data": {
      "image/png": "[encoded data removed]",
      "text/plain": [
       "<Figure size 432x288 with 1 Axes>"
      ]
     },
     "metadata": {
      "needs_background": "light"
     },
     "output_type": "display_data"
    },
    {
     "data": {
      "image/png": "[encoded data removed]",
      "text/plain": [
       "<Figure size 432x288 with 1 Axes>"
      ]
     },
     "metadata": {
      "needs_background": "light"
     },
     "output_type": "display_data"
    }
   ],
   "source": [
    "# Plot training & validation accuracy values\n",
    "plt.plot(history.history['accuracy'])\n",
    "plt.plot(history.history['val_accuracy'])\n",
    "plt.title('Model accuracy')\n",
    "plt.ylabel('Accuracy')\n",
    "plt.xlabel('Epoch')\n",
    "plt.legend(['Train', 'Test'], loc='upper left')\n",
    "plt.show()\n",
    "\n",
    "# Plot training & validation loss values\n",
    "plt.plot(history.history['loss'])\n",
    "plt.plot(history.history['val_loss'])\n",
    "plt.title('Model loss')\n",
    "plt.ylabel('Loss')\n",
    "plt.xlabel('Epoch')\n",
    "plt.legend(['Train', 'Test'], loc='upper left')\n",
    "plt.show()"
   ]
  },
  {
   "cell_type": "code",
   "execution_count": 32,
   "metadata": {},
   "outputs": [],
   "source": [
    "y_pred = model.predict(validation_data)"
   ]
  },
  {
   "cell_type": "code",
   "execution_count": 33,
   "metadata": {},
   "outputs": [],
   "source": [
    "y_pred = np.argmax(y_pred, axis=1)"
   ]
  },
  {
   "cell_type": "code",
   "execution_count": 34,
   "metadata": {},
   "outputs": [
    {
     "ename": "UnicodeDecodeError",
     "evalue": "'charmap' codec can't decode byte 0x8d in position 21: character maps to <undefined>",
     "output_type": "error",
     "traceback": [
      "\u001b[1;31m---------------------------------------------------------------------------\u001b[0m",
      "\u001b[1;31mUnicodeDecodeError\u001b[0m                        Traceback (most recent call last)",
      "\u001b[1;32m<ipython-input-34-476c08efcb7a>\u001b[0m in \u001b[0;36m<module>\u001b[1;34m\u001b[0m\n\u001b[0;32m      2\u001b[0m \u001b[1;32mfor\u001b[0m \u001b[0mi\u001b[0m\u001b[1;33m,\u001b[0m \u001b[0msample\u001b[0m \u001b[1;32min\u001b[0m \u001b[0menumerate\u001b[0m\u001b[1;33m(\u001b[0m\u001b[0msamples\u001b[0m\u001b[1;33m)\u001b[0m\u001b[1;33m:\u001b[0m\u001b[1;33m\u001b[0m\u001b[1;33m\u001b[0m\u001b[0m\n\u001b[0;32m      3\u001b[0m     \u001b[0mf\u001b[0m \u001b[1;33m=\u001b[0m \u001b[0mopen\u001b[0m\u001b[1;33m(\u001b[0m\u001b[0msample\u001b[0m\u001b[1;33m)\u001b[0m\u001b[1;33m\u001b[0m\u001b[1;33m\u001b[0m\u001b[0m\n\u001b[1;32m----> 4\u001b[1;33m     \u001b[0mtext\u001b[0m \u001b[1;33m=\u001b[0m \u001b[0mf\u001b[0m\u001b[1;33m.\u001b[0m\u001b[0mread\u001b[0m\u001b[1;33m(\u001b[0m\u001b[1;33m)\u001b[0m\u001b[1;33m\u001b[0m\u001b[1;33m\u001b[0m\u001b[0m\n\u001b[0m\u001b[0;32m      5\u001b[0m     \u001b[0mprint\u001b[0m\u001b[1;33m(\u001b[0m\u001b[0mtext\u001b[0m\u001b[1;33m[\u001b[0m\u001b[1;36m0\u001b[0m\u001b[1;33m:\u001b[0m\u001b[1;36m100\u001b[0m\u001b[1;33m]\u001b[0m\u001b[1;33m)\u001b[0m\u001b[1;33m\u001b[0m\u001b[1;33m\u001b[0m\u001b[0m\n\u001b[0;32m      6\u001b[0m     \u001b[0mprint\u001b[0m\u001b[1;33m(\u001b[0m\u001b[1;34m\"True Class: \"\u001b[0m\u001b[1;33m,\u001b[0m \u001b[0msample\u001b[0m\u001b[1;33m.\u001b[0m\u001b[0msplit\u001b[0m\u001b[1;33m(\u001b[0m\u001b[1;34m\"/\"\u001b[0m\u001b[1;33m)\u001b[0m\u001b[1;33m[\u001b[0m\u001b[1;36m0\u001b[0m\u001b[1;33m]\u001b[0m\u001b[1;33m)\u001b[0m\u001b[1;33m\u001b[0m\u001b[1;33m\u001b[0m\u001b[0m\n",
      "\u001b[1;32mD:\\Users\\Aditya Bhattacharya\\anaconda3\\lib\\encodings\\cp1252.py\u001b[0m in \u001b[0;36mdecode\u001b[1;34m(self, input, final)\u001b[0m\n\u001b[0;32m     21\u001b[0m \u001b[1;32mclass\u001b[0m \u001b[0mIncrementalDecoder\u001b[0m\u001b[1;33m(\u001b[0m\u001b[0mcodecs\u001b[0m\u001b[1;33m.\u001b[0m\u001b[0mIncrementalDecoder\u001b[0m\u001b[1;33m)\u001b[0m\u001b[1;33m:\u001b[0m\u001b[1;33m\u001b[0m\u001b[1;33m\u001b[0m\u001b[0m\n\u001b[0;32m     22\u001b[0m     \u001b[1;32mdef\u001b[0m \u001b[0mdecode\u001b[0m\u001b[1;33m(\u001b[0m\u001b[0mself\u001b[0m\u001b[1;33m,\u001b[0m \u001b[0minput\u001b[0m\u001b[1;33m,\u001b[0m \u001b[0mfinal\u001b[0m\u001b[1;33m=\u001b[0m\u001b[1;32mFalse\u001b[0m\u001b[1;33m)\u001b[0m\u001b[1;33m:\u001b[0m\u001b[1;33m\u001b[0m\u001b[1;33m\u001b[0m\u001b[0m\n\u001b[1;32m---> 23\u001b[1;33m         \u001b[1;32mreturn\u001b[0m \u001b[0mcodecs\u001b[0m\u001b[1;33m.\u001b[0m\u001b[0mcharmap_decode\u001b[0m\u001b[1;33m(\u001b[0m\u001b[0minput\u001b[0m\u001b[1;33m,\u001b[0m\u001b[0mself\u001b[0m\u001b[1;33m.\u001b[0m\u001b[0merrors\u001b[0m\u001b[1;33m,\u001b[0m\u001b[0mdecoding_table\u001b[0m\u001b[1;33m)\u001b[0m\u001b[1;33m[\u001b[0m\u001b[1;36m0\u001b[0m\u001b[1;33m]\u001b[0m\u001b[1;33m\u001b[0m\u001b[1;33m\u001b[0m\u001b[0m\n\u001b[0m\u001b[0;32m     24\u001b[0m \u001b[1;33m\u001b[0m\u001b[0m\n\u001b[0;32m     25\u001b[0m \u001b[1;32mclass\u001b[0m \u001b[0mStreamWriter\u001b[0m\u001b[1;33m(\u001b[0m\u001b[0mCodec\u001b[0m\u001b[1;33m,\u001b[0m\u001b[0mcodecs\u001b[0m\u001b[1;33m.\u001b[0m\u001b[0mStreamWriter\u001b[0m\u001b[1;33m)\u001b[0m\u001b[1;33m:\u001b[0m\u001b[1;33m\u001b[0m\u001b[1;33m\u001b[0m\u001b[0m\n",
      "\u001b[1;31mUnicodeDecodeError\u001b[0m: 'charmap' codec can't decode byte 0x8d in position 21: character maps to <undefined>"
     ]
    }
   ],
   "source": [
    "samples = file_paths[0:3]\n",
    "for i, sample in enumerate(samples):\n",
    "    f = open(sample)\n",
    "    text = f.read()\n",
    "    print(text[0:100])\n",
    "    print(\"True Class: \", sample.split(\"/\")[0])\n",
    "    print(\"Predicted Class: \", dir_names[y_pred[i]])\n",
    "    f.close()"
   ]
  },
  {
   "cell_type": "code",
   "execution_count": null,
   "metadata": {},
   "outputs": [],
   "source": [
    "y_true = np.array(labels[train_size:])"
   ]
  },
  {
   "cell_type": "code",
   "execution_count": null,
   "metadata": {},
   "outputs": [],
   "source": [
    "print(classification_report(y_true, y_pred, target_names=dir_names))"
   ]
  },
  {
   "cell_type": "code",
   "execution_count": null,
   "metadata": {},
   "outputs": [],
   "source": []
  }
 ],
 "metadata": {
  "kernelspec": {
   "display_name": "Python 3",
   "language": "python",
   "name": "python3"
  },
  "language_info": {
   "codemirror_mode": {
    "name": "ipython",
    "version": 3
   },
   "file_extension": ".py",
   "mimetype": "text/x-python",
   "name": "python",
   "nbconvert_exporter": "python",
   "pygments_lexer": "ipython3",
   "version": "3.8.3"
  }
 },
 "nbformat": 4,
 "nbformat_minor": 4
}
